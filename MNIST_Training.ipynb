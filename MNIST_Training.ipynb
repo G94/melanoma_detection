{
  "nbformat": 4,
  "nbformat_minor": 0,
  "metadata": {
    "colab": {
      "name": "MNIST_Training.ipynb",
      "provenance": []
    },
    "kernelspec": {
      "name": "python3",
      "display_name": "Python 3"
    },
    "accelerator": "GPU"
  },
  "cells": [
    {
      "cell_type": "code",
      "metadata": {
        "id": "Qlj1ymcTYsgF",
        "outputId": "dfebb363-13d4-41d9-81ba-01f1d4963ecf",
        "colab": {
          "base_uri": "https://localhost:8080/",
          "height": 34
        }
      },
      "source": [
        "import matplotlib.pyplot as plt\n",
        "%matplotlib inline\n",
        "\n",
        "import numpy as np\n",
        "import torch\n",
        "import torch.nn as nn\n",
        "import torch.nn.functional as F\n",
        "from torch.utils.data import DataLoader, Dataset\n",
        "import torch.optim  as optim\n",
        "import torchvision\n",
        "import torchvision.transforms as transforms\n",
        "from torch.utils.data.sampler import SubsetRandomSampler\n",
        "\n",
        "# check if CUDA is available\n",
        "train_on_gpu = torch.cuda.is_available()\n",
        "\n",
        "if not train_on_gpu:\n",
        "    print('CUDA is not available.  Training on CPU ...')\n",
        "else:\n",
        "    print('CUDA is available!  Training on GPU ...')\n",
        "\n",
        "device = torch.device('cuda:0' if train_on_gpu else 'cpu')"
      ],
      "execution_count": 45,
      "outputs": [
        {
          "output_type": "stream",
          "text": [
            "CUDA is available!  Training on GPU ...\n"
          ],
          "name": "stdout"
        }
      ]
    },
    {
      "cell_type": "markdown",
      "metadata": {
        "id": "ibK9jtW4LL4C"
      },
      "source": [
        "## Part 1"
      ]
    },
    {
      "cell_type": "code",
      "metadata": {
        "id": "bpXuf5oGY089",
        "outputId": "c6ea1a6b-5223-42d4-e3d8-3dd34acaa86e",
        "colab": {
          "base_uri": "https://localhost:8080/",
          "height": 35
        }
      },
      "source": [
        "torch.__version__"
      ],
      "execution_count": 46,
      "outputs": [
        {
          "output_type": "execute_result",
          "data": {
            "application/vnd.google.colaboratory.intrinsic+json": {
              "type": "string"
            },
            "text/plain": [
              "'1.6.0+cu101'"
            ]
          },
          "metadata": {
            "tags": []
          },
          "execution_count": 46
        }
      ]
    },
    {
      "cell_type": "code",
      "metadata": {
        "id": "31Mamwn-l_Iz",
        "outputId": "55d82026-193b-4cad-ca2a-a87dc1657175",
        "colab": {
          "base_uri": "https://localhost:8080/",
          "height": 35
        }
      },
      "source": [
        "torchvision.__version__"
      ],
      "execution_count": 47,
      "outputs": [
        {
          "output_type": "execute_result",
          "data": {
            "application/vnd.google.colaboratory.intrinsic+json": {
              "type": "string"
            },
            "text/plain": [
              "'0.7.0+cu101'"
            ]
          },
          "metadata": {
            "tags": []
          },
          "execution_count": 47
        }
      ]
    },
    {
      "cell_type": "code",
      "metadata": {
        "id": "Hfqo_lVqY1Cq",
        "outputId": "54596e03-830b-445e-e95c-5d2e514e771f",
        "colab": {
          "base_uri": "https://localhost:8080/",
          "height": 35
        }
      },
      "source": [
        "np.__version__"
      ],
      "execution_count": 48,
      "outputs": [
        {
          "output_type": "execute_result",
          "data": {
            "application/vnd.google.colaboratory.intrinsic+json": {
              "type": "string"
            },
            "text/plain": [
              "'1.18.5'"
            ]
          },
          "metadata": {
            "tags": []
          },
          "execution_count": 48
        }
      ]
    },
    {
      "cell_type": "code",
      "metadata": {
        "id": "VsPZzlLWY1FY",
        "outputId": "ea45180c-8b47-45de-a45d-26d5ab41e24e",
        "colab": {
          "base_uri": "https://localhost:8080/",
          "height": 35
        }
      },
      "source": [
        "import sklearn\n",
        "sklearn.__version__"
      ],
      "execution_count": 49,
      "outputs": [
        {
          "output_type": "execute_result",
          "data": {
            "application/vnd.google.colaboratory.intrinsic+json": {
              "type": "string"
            },
            "text/plain": [
              "'0.22.2.post1'"
            ]
          },
          "metadata": {
            "tags": []
          },
          "execution_count": 49
        }
      ]
    },
    {
      "cell_type": "code",
      "metadata": {
        "id": "dy_OjjdHY1Hw",
        "outputId": "bbd72e96-1d6d-4bea-941b-61771ee172ce",
        "colab": {
          "base_uri": "https://localhost:8080/",
          "height": 35
        }
      },
      "source": [
        "import matplotlib\n",
        "matplotlib.__version__"
      ],
      "execution_count": 50,
      "outputs": [
        {
          "output_type": "execute_result",
          "data": {
            "application/vnd.google.colaboratory.intrinsic+json": {
              "type": "string"
            },
            "text/plain": [
              "'3.2.2'"
            ]
          },
          "metadata": {
            "tags": []
          },
          "execution_count": 50
        }
      ]
    },
    {
      "cell_type": "markdown",
      "metadata": {
        "id": "-3sVoQ65LEoM"
      },
      "source": [
        "## Part 2"
      ]
    },
    {
      "cell_type": "markdown",
      "metadata": {
        "id": "nWBP0En8mBdz"
      },
      "source": [
        "Time for the “Hello World” of deep learning: train a handwritten digit classifier using PyTorch. The choice of the network architecture is up to you, the goal is to simply get at least 95% accuracy on the test set! Note that the MNIST dataset is already available as part of the torchvision package."
      ]
    },
    {
      "cell_type": "code",
      "metadata": {
        "id": "VHDJO0oqY1MV"
      },
      "source": [
        "from torchvision import datasets"
      ],
      "execution_count": 51,
      "outputs": []
    },
    {
      "cell_type": "code",
      "metadata": {
        "id": "0fUn87U7A8_N"
      },
      "source": [
        "dataset_mnist_train = torchvision.datasets.MNIST('/files/', train = True, download = True,\n",
        "                             transform=torchvision.transforms.Compose([torchvision.transforms.ToTensor(),\n",
        "                               torchvision.transforms.Normalize((0.1307,), (0.3081,))\n",
        "                             ]))\n",
        "\n",
        "dataset_mnist_test =  torchvision.datasets.MNIST('/files/', train = False, download = True,\n",
        "                             transform=torchvision.transforms.Compose([torchvision.transforms.ToTensor(),\n",
        "                               torchvision.transforms.Normalize((0.1307,), (0.3081,))\n",
        "                             ]))"
      ],
      "execution_count": 52,
      "outputs": []
    },
    {
      "cell_type": "code",
      "metadata": {
        "id": "fW_zj6aEowPg"
      },
      "source": [
        "from sklearn.model_selection import train_test_split"
      ],
      "execution_count": 53,
      "outputs": []
    },
    {
      "cell_type": "code",
      "metadata": {
        "id": "kNRQOyIeBlrK"
      },
      "source": [
        "batch_size_train = 32\n",
        "n_epochs = 3\n",
        "batch_size_test = 1000"
      ],
      "execution_count": 54,
      "outputs": []
    },
    {
      "cell_type": "code",
      "metadata": {
        "id": "TDBlh2Kno665"
      },
      "source": [
        "# number of subprocesses to use for data loading\n",
        "num_workers = 0\n",
        "\n",
        "# percentage of training set to use as validation\n",
        "valid_size = 0.2\n",
        "\n",
        "targets = dataset_mnist_train.targets\n",
        "train_idx, valid_idx = train_test_split(np.arange(len(targets)), test_size = valid_size,  stratify = targets)\n",
        "\n",
        "# define samplers for obtaining training and validation batches\n",
        "train_sampler = SubsetRandomSampler(train_idx)\n",
        "valid_sampler = SubsetRandomSampler(valid_idx)"
      ],
      "execution_count": 55,
      "outputs": []
    },
    {
      "cell_type": "code",
      "metadata": {
        "id": "y_rskNKnY1QY"
      },
      "source": [
        "train_loader = torch.utils.data.DataLoader(dataset_mnist_train , batch_size = batch_size_train, sampler = train_sampler,  num_workers=num_workers)\n",
        "valid_loader = torch.utils.data.DataLoader(dataset_mnist_train, batch_size =  batch_size_train, sampler = valid_sampler, num_workers=num_workers)\n",
        "test_loader = torch.utils.data.DataLoader(dataset_mnist_test, batch_size = batch_size_train,  num_workers = num_workers)"
      ],
      "execution_count": 56,
      "outputs": []
    },
    {
      "cell_type": "code",
      "metadata": {
        "id": "Fn4ncT1oYI9-",
        "outputId": "b47e7497-f239-4ba6-c574-f972b063e275",
        "colab": {
          "base_uri": "https://localhost:8080/",
          "height": 34
        }
      },
      "source": [
        "len(train_loader.sampler)"
      ],
      "execution_count": 57,
      "outputs": [
        {
          "output_type": "execute_result",
          "data": {
            "text/plain": [
              "48000"
            ]
          },
          "metadata": {
            "tags": []
          },
          "execution_count": 57
        }
      ]
    },
    {
      "cell_type": "code",
      "metadata": {
        "id": "i1IRfWmvYFcn",
        "outputId": "6d1804da-089e-4b8b-8e5d-5fba902fae6d",
        "colab": {
          "base_uri": "https://localhost:8080/",
          "height": 34
        }
      },
      "source": [
        "len(valid_loader.sampler)"
      ],
      "execution_count": 58,
      "outputs": [
        {
          "output_type": "execute_result",
          "data": {
            "text/plain": [
              "12000"
            ]
          },
          "metadata": {
            "tags": []
          },
          "execution_count": 58
        }
      ]
    },
    {
      "cell_type": "code",
      "metadata": {
        "id": "YG3UNls9I_y7",
        "outputId": "d823ccc1-229f-4ed5-9dea-e22a7639b0a1",
        "colab": {
          "base_uri": "https://localhost:8080/",
          "height": 34
        }
      },
      "source": [
        "len(valid_idx)"
      ],
      "execution_count": 59,
      "outputs": [
        {
          "output_type": "execute_result",
          "data": {
            "text/plain": [
              "12000"
            ]
          },
          "metadata": {
            "tags": []
          },
          "execution_count": 59
        }
      ]
    },
    {
      "cell_type": "code",
      "metadata": {
        "id": "bX7NWurABHUK",
        "outputId": "c9088826-cf7c-46b4-e764-c1b3c8aedb5c",
        "colab": {
          "base_uri": "https://localhost:8080/",
          "height": 51
        }
      },
      "source": [
        "print(\"train\",np.unique((targets[train_idx]), return_counts = True))\n",
        "print(\"valid\",np.unique((targets[valid_idx]), return_counts = True))"
      ],
      "execution_count": 60,
      "outputs": [
        {
          "output_type": "stream",
          "text": [
            "train (array([0, 1, 2, 3, 4, 5, 6, 7, 8, 9]), array([4738, 5394, 4766, 4905, 4674, 4337, 4734, 5012, 4681, 4759]))\n",
            "valid (array([0, 1, 2, 3, 4, 5, 6, 7, 8, 9]), array([1185, 1348, 1192, 1226, 1168, 1084, 1184, 1253, 1170, 1190]))\n"
          ],
          "name": "stdout"
        }
      ]
    },
    {
      "cell_type": "code",
      "metadata": {
        "id": "or9BJb2VI_Y4"
      },
      "source": [
        ""
      ],
      "execution_count": 60,
      "outputs": []
    },
    {
      "cell_type": "code",
      "metadata": {
        "id": "_TUQ9xxvBwLJ"
      },
      "source": [
        "batch_img = enumerate(valid_loader)\n",
        "batch_idx, (example_data, example_targets) = next(batch_img)"
      ],
      "execution_count": 61,
      "outputs": []
    },
    {
      "cell_type": "code",
      "metadata": {
        "id": "w0pXaSMdBwNa",
        "outputId": "443b1e47-9c27-41d8-b435-2f3518bd70b9",
        "colab": {
          "base_uri": "https://localhost:8080/",
          "height": 34
        }
      },
      "source": [
        "example_data.shape"
      ],
      "execution_count": 62,
      "outputs": [
        {
          "output_type": "execute_result",
          "data": {
            "text/plain": [
              "torch.Size([32, 1, 28, 28])"
            ]
          },
          "metadata": {
            "tags": []
          },
          "execution_count": 62
        }
      ]
    },
    {
      "cell_type": "code",
      "metadata": {
        "id": "p-6LSxvnBwPx",
        "outputId": "e73dedf2-cb7e-43b3-c9c4-9d24c1dd462b",
        "colab": {
          "base_uri": "https://localhost:8080/",
          "height": 607
        }
      },
      "source": [
        "fig, axes = plt.subplots(3, 3, figsize = (10, 10))\n",
        "axes = axes.ravel()\n",
        "\n",
        "for i in range(0, 9):\n",
        "  axes[i].imshow(example_data[i][0], cmap='gray', interpolation='none')\n",
        "  axes[i].set_title(\"True Number: {}\".format(example_targets[i]))"
      ],
      "execution_count": 63,
      "outputs": [
        {
          "output_type": "display_data",
          "data": {
            "image/png": "[encoded data removed]",
            "text/plain": [
              "<Figure size 720x720 with 9 Axes>"
            ]
          },
          "metadata": {
            "tags": [],
            "needs_background": "light"
          }
        }
      ]
    },
    {
      "cell_type": "markdown",
      "metadata": {
        "id": "dG2BnIgSSRSD"
      },
      "source": [
        "#### model training"
      ]
    },
    {
      "cell_type": "code",
      "metadata": {
        "id": "fYsh-gdgJwXe"
      },
      "source": [
        "class MNISTNet(nn.Module):\n",
        "    def __init__(self):\n",
        "        super(MNISTNet, self).__init__()\n",
        "        self.conv1 = nn.Conv2d(1, 16, kernel_size = 3)\n",
        "        self.conv2 = nn.Conv2d(16, 20, kernel_size = 5)\n",
        "        self.conv2_drop = nn.Dropout2d()\n",
        "        self.pool = nn.MaxPool2d(2, 2)\n",
        "        # linear layer (64 * 4 * 4 -> 500)\n",
        "        self.fc1 = nn.Linear(64 * 4 * 4, 500)\n",
        "\n",
        "        self.fc1 = nn.Linear(320, 50)\n",
        "        self.dropout = nn.Dropout(0.25)\n",
        "        self.fc2 = nn.Linear(50, 10)\n",
        "\n",
        "    def forward(self, x):\n",
        "        x = F.relu(F.max_pool2d(self.conv1(x), 2))\n",
        "        x = F.relu(F.max_pool2d(self.conv2_drop(self.conv2(x)), 2))\n",
        "        x = x.view(-1, 320)\n",
        "        x = F.relu(self.fc1(x))\n",
        "        x = F.dropout(x, training=self.training)\n",
        "        x = self.fc2(x)\n",
        "        return F.log_softmax(x)"
      ],
      "execution_count": 64,
      "outputs": []
    },
    {
      "cell_type": "code",
      "metadata": {
        "id": "4CwmcHtSJwZw"
      },
      "source": [
        "learning_rate = 0.001\n",
        "momentum = 0.5\n",
        "log_interval = 10\n",
        "n_epochs = 30\n",
        "model = MNISTNet()\n",
        "\n",
        "optimizer = optim.SGD(model.parameters(), lr = learning_rate,\n",
        "                      momentum=momentum)"
      ],
      "execution_count": 117,
      "outputs": []
    },
    {
      "cell_type": "code",
      "metadata": {
        "id": "ZtlULslBUEFi"
      },
      "source": [
        "criterion = nn.CrossEntropyLoss()\n",
        "\n",
        "# specify optimizer\n",
        "optimizer = optim.SGD(model.parameters(), lr=0.001)"
      ],
      "execution_count": 118,
      "outputs": []
    },
    {
      "cell_type": "code",
      "metadata": {
        "id": "3gS5pQWgUeuI",
        "outputId": "6fafea6c-1d5a-4cdb-cefb-ee98bfaf966e",
        "colab": {
          "base_uri": "https://localhost:8080/",
          "height": 323
        }
      },
      "source": [
        "# create a complete CNN\n",
        "\n",
        "print(model)\n",
        "\n",
        "# move tensors to GPU if CUDA is available\n",
        "model.cuda()"
      ],
      "execution_count": 119,
      "outputs": [
        {
          "output_type": "stream",
          "text": [
            "MNISTNet(\n",
            "  (conv1): Conv2d(1, 16, kernel_size=(3, 3), stride=(1, 1))\n",
            "  (conv2): Conv2d(16, 20, kernel_size=(5, 5), stride=(1, 1))\n",
            "  (conv2_drop): Dropout2d(p=0.5, inplace=False)\n",
            "  (pool): MaxPool2d(kernel_size=2, stride=2, padding=0, dilation=1, ceil_mode=False)\n",
            "  (fc1): Linear(in_features=320, out_features=50, bias=True)\n",
            "  (dropout): Dropout(p=0.25, inplace=False)\n",
            "  (fc2): Linear(in_features=50, out_features=10, bias=True)\n",
            ")\n"
          ],
          "name": "stdout"
        },
        {
          "output_type": "execute_result",
          "data": {
            "text/plain": [
              "MNISTNet(\n",
              "  (conv1): Conv2d(1, 16, kernel_size=(3, 3), stride=(1, 1))\n",
              "  (conv2): Conv2d(16, 20, kernel_size=(5, 5), stride=(1, 1))\n",
              "  (conv2_drop): Dropout2d(p=0.5, inplace=False)\n",
              "  (pool): MaxPool2d(kernel_size=2, stride=2, padding=0, dilation=1, ceil_mode=False)\n",
              "  (fc1): Linear(in_features=320, out_features=50, bias=True)\n",
              "  (dropout): Dropout(p=0.25, inplace=False)\n",
              "  (fc2): Linear(in_features=50, out_features=10, bias=True)\n",
              ")"
            ]
          },
          "metadata": {
            "tags": []
          },
          "execution_count": 119
        }
      ]
    },
    {
      "cell_type": "code",
      "metadata": {
        "id": "lS2RGgttUEIZ",
        "outputId": "3b46c21d-4551-4167-da74-688ddfb0a831",
        "colab": {
          "base_uri": "https://localhost:8080/",
          "height": 544
        }
      },
      "source": [
        "n_epochs = 30\n",
        "\n",
        "valid_loss_min = np.Inf # track change in validation loss\n",
        "train_history = []\n",
        "valid_history = []\n",
        "\n",
        "\n",
        "\n",
        "for epoch in range(1, n_epochs+1):\n",
        "\n",
        "    # keep track of training and validation loss\n",
        "    train_loss = 0.0\n",
        "    valid_loss = 0.0\n",
        "    \n",
        "    ###################\n",
        "    # train the model #\n",
        "    ###################\n",
        "    model.train()\n",
        "    correct_train = 0\n",
        "    correct_valid = 0\n",
        "\n",
        "    for data, target in train_loader:\n",
        "        # move tensors to GPU if CUDA is available\n",
        "        if train_on_gpu:\n",
        "            data, target = data.cuda(), target.cuda()\n",
        "        # clear the gradients of all optimized variables\n",
        "        optimizer.zero_grad()\n",
        "        # forward pass: compute predicted outputs by passing inputs to the model\n",
        "        output = model(data)\n",
        "        # calculate the batch loss\n",
        "        loss = criterion(output, target)\n",
        "        # backward pass: compute gradient of the loss with respect to model parameters\n",
        "        loss.backward()\n",
        "        # perform a single optimization step (parameter update)\n",
        "        optimizer.step()\n",
        "        # update training loss\n",
        "        train_loss += loss.item()*data.size(0)\n",
        "\n",
        "        pred_train = output.data.max(1, keepdim=True)[1]\n",
        "        correct_train += pred_train.eq(target.data.view_as(pred_train)).sum()  \n",
        "\n",
        "\n",
        "    ######################    \n",
        "    # validate the model #\n",
        "    ######################\n",
        "    model.eval()\n",
        "    for data, target in valid_loader:\n",
        "        # move tensors to GPU if CUDA is available\n",
        "        if train_on_gpu:\n",
        "            data, target = data.cuda(), target.cuda()\n",
        "        # forward pass: compute predicted outputs by passing inputs to the model\n",
        "        output = model(data)\n",
        "        # calculate the batch loss\n",
        "        loss = criterion(output, target)\n",
        "        # update average validation loss \n",
        "        valid_loss += loss.item()*data.size(0)\n",
        "\n",
        "        pred_valid = output.data.max(1, keepdim=True)[1]\n",
        "        correct_valid += pred_valid.eq(target.data.view_as(pred_valid)).sum() \n",
        "\n",
        "    # calculate average losses\n",
        "    train_loss = train_loss/len(train_loader.sampler)\n",
        "    valid_loss = valid_loss/len(valid_loader.sampler)\n",
        "    \n",
        "    # calculate the accuracy\n",
        "    accuracy_train = 100. * correct_train / len(train_loader.sampler)\n",
        "    accuracy_valid = 100. * correct_valid/ len(valid_loader.sampler)\n",
        "\n",
        "    train_history.append([train_loss, accuracy_train])    \n",
        "    valid_history.append([valid_loss, accuracy_valid])\n",
        "\n",
        "\n",
        "    print('Epoch: {} \\tTraining Loss {:.6f} - Accuracy:  {:.6f} \\tValidation Loss {:.6f} -  Accuracy: {:.6f}'.format(\n",
        "        epoch, train_loss, accuracy_train,  valid_loss, accuracy_valid))"
      ],
      "execution_count": 120,
      "outputs": [
        {
          "output_type": "stream",
          "text": [
            "/usr/local/lib/python3.6/dist-packages/ipykernel_launcher.py:22: UserWarning: Implicit dimension choice for log_softmax has been deprecated. Change the call to include dim=X as an argument.\n"
          ],
          "name": "stderr"
        },
        {
          "output_type": "stream",
          "text": [
            "Epoch: 1 \tTraining Loss 2.260689 - Accuracy:  14.431250 \tValidation Loss 2.113387 -  Accuracy: 57.549999\n",
            "Epoch: 2 \tTraining Loss 1.832102 - Accuracy:  38.660416 \tValidation Loss 1.138596 -  Accuracy: 73.533333\n",
            "Epoch: 3 \tTraining Loss 1.177001 - Accuracy:  60.974998 \tValidation Loss 0.614930 -  Accuracy: 85.324997\n",
            "Epoch: 4 \tTraining Loss 0.875760 - Accuracy:  71.562500 \tValidation Loss 0.464548 -  Accuracy: 87.724998\n",
            "Epoch: 5 \tTraining Loss 0.741969 - Accuracy:  76.408333 \tValidation Loss 0.387143 -  Accuracy: 89.449997\n",
            "Epoch: 6 \tTraining Loss 0.654054 - Accuracy:  79.479164 \tValidation Loss 0.337398 -  Accuracy: 90.483330\n",
            "Epoch: 7 \tTraining Loss 0.600381 - Accuracy:  81.337502 \tValidation Loss 0.307637 -  Accuracy: 91.283333\n",
            "Epoch: 8 \tTraining Loss 0.567275 - Accuracy:  82.525002 \tValidation Loss 0.282965 -  Accuracy: 91.691666\n",
            "Epoch: 9 \tTraining Loss 0.531390 - Accuracy:  83.420830 \tValidation Loss 0.265373 -  Accuracy: 92.299995\n",
            "Epoch: 10 \tTraining Loss 0.504077 - Accuracy:  84.547913 \tValidation Loss 0.247592 -  Accuracy: 92.691666\n",
            "Epoch: 11 \tTraining Loss 0.486020 - Accuracy:  85.066666 \tValidation Loss 0.241685 -  Accuracy: 93.025002\n",
            "Epoch: 12 \tTraining Loss 0.467144 - Accuracy:  85.781250 \tValidation Loss 0.225560 -  Accuracy: 93.441666\n",
            "Epoch: 13 \tTraining Loss 0.447931 - Accuracy:  86.212502 \tValidation Loss 0.216115 -  Accuracy: 93.525002\n",
            "Epoch: 14 \tTraining Loss 0.436675 - Accuracy:  86.608330 \tValidation Loss 0.207355 -  Accuracy: 94.049995\n",
            "Epoch: 15 \tTraining Loss 0.422283 - Accuracy:  87.145836 \tValidation Loss 0.201997 -  Accuracy: 94.183334\n",
            "Epoch: 16 \tTraining Loss 0.411599 - Accuracy:  87.468750 \tValidation Loss 0.193227 -  Accuracy: 94.291664\n",
            "Epoch: 17 \tTraining Loss 0.397388 - Accuracy:  88.016663 \tValidation Loss 0.187716 -  Accuracy: 94.483330\n",
            "Epoch: 18 \tTraining Loss 0.391436 - Accuracy:  88.143745 \tValidation Loss 0.181100 -  Accuracy: 94.674995\n",
            "Epoch: 19 \tTraining Loss 0.382678 - Accuracy:  88.489586 \tValidation Loss 0.174752 -  Accuracy: 94.808334\n",
            "Epoch: 20 \tTraining Loss 0.373315 - Accuracy:  88.745834 \tValidation Loss 0.168142 -  Accuracy: 94.866669\n",
            "Epoch: 21 \tTraining Loss 0.366232 - Accuracy:  88.887497 \tValidation Loss 0.165150 -  Accuracy: 95.108330\n",
            "Epoch: 22 \tTraining Loss 0.355092 - Accuracy:  89.299995 \tValidation Loss 0.162565 -  Accuracy: 95.083336\n",
            "Epoch: 23 \tTraining Loss 0.355784 - Accuracy:  89.454163 \tValidation Loss 0.158357 -  Accuracy: 95.133331\n",
            "Epoch: 24 \tTraining Loss 0.345014 - Accuracy:  89.595833 \tValidation Loss 0.157184 -  Accuracy: 95.216667\n",
            "Epoch: 25 \tTraining Loss 0.336306 - Accuracy:  90.027084 \tValidation Loss 0.151492 -  Accuracy: 95.341667\n",
            "Epoch: 26 \tTraining Loss 0.334675 - Accuracy:  90.056252 \tValidation Loss 0.148407 -  Accuracy: 95.474998\n",
            "Epoch: 27 \tTraining Loss 0.324111 - Accuracy:  90.256248 \tValidation Loss 0.146060 -  Accuracy: 95.583336\n",
            "Epoch: 28 \tTraining Loss 0.317294 - Accuracy:  90.552086 \tValidation Loss 0.142401 -  Accuracy: 95.658333\n",
            "Epoch: 29 \tTraining Loss 0.317773 - Accuracy:  90.502083 \tValidation Loss 0.141399 -  Accuracy: 95.633331\n",
            "Epoch: 30 \tTraining Loss 0.310959 - Accuracy:  90.710419 \tValidation Loss 0.137237 -  Accuracy: 95.824997\n"
          ],
          "name": "stdout"
        }
      ]
    },
    {
      "cell_type": "markdown",
      "metadata": {
        "id": "KTaRmU9GanD-"
      },
      "source": [
        "### Loss \n"
      ]
    },
    {
      "cell_type": "code",
      "metadata": {
        "id": "0u7GjwAbBwbi",
        "outputId": "eb2351f9-2e9c-4c36-81d8-6ce4e957f439",
        "colab": {
          "base_uri": "https://localhost:8080/",
          "height": 279
        }
      },
      "source": [
        "fig = plt.figure()\n",
        "\n",
        "plt.plot(range(n_epochs), np.array(train_history)[0:, 0], color = 'blue')\n",
        "plt.plot(range(n_epochs), np.array(valid_history)[0:, 0], color = 'orange')\n",
        "\n",
        "plt.legend(['Train Loss', 'Test Loss'], loc = 'upper right')\n",
        "plt.xlabel('epoch')\n",
        "plt.ylabel('negative log likelihood loss')\n",
        "plt.show()"
      ],
      "execution_count": 121,
      "outputs": [
        {
          "output_type": "display_data",
          "data": {
            "image/png": "[encoded data removed]",
            "text/plain": [
              "<Figure size 432x288 with 1 Axes>"
            ]
          },
          "metadata": {
            "tags": [],
            "needs_background": "light"
          }
        }
      ]
    },
    {
      "cell_type": "markdown",
      "metadata": {
        "id": "5juLp8xeatte"
      },
      "source": [
        "### Accuracy\n"
      ]
    },
    {
      "cell_type": "code",
      "metadata": {
        "id": "ht5oiZ1UatGB",
        "outputId": "6aa4cb37-8e51-42fa-ab06-9d17cface960",
        "colab": {
          "base_uri": "https://localhost:8080/",
          "height": 279
        }
      },
      "source": [
        "fig = plt.figure()\n",
        "\n",
        "plt.plot(range(n_epochs), np.array(train_history)[:, 1:], color = 'blue')\n",
        "plt.plot(range(n_epochs), np.array(valid_history)[:, 1:], color = 'orange')\n",
        "\n",
        "plt.legend(['Train Accuracy', 'Test Accuracy'], loc = 'upper right')\n",
        "plt.xlabel('epoch')\n",
        "plt.ylabel('Accuracy')\n",
        "plt.show()"
      ],
      "execution_count": 122,
      "outputs": [
        {
          "output_type": "display_data",
          "data": {
            "image/png": "[encoded data removed]",
            "text/plain": [
              "<Figure size 432x288 with 1 Axes>"
            ]
          },
          "metadata": {
            "tags": [],
            "needs_background": "light"
          }
        }
      ]
    },
    {
      "cell_type": "markdown",
      "metadata": {
        "id": "KK05TGasyRDh"
      },
      "source": [
        "### Test Set"
      ]
    },
    {
      "cell_type": "code",
      "metadata": {
        "id": "EDHEGITMgcVJ"
      },
      "source": [
        "# specify the image classes\n",
        "classes = [1,2,3,4,5,6,7,8,9,10]"
      ],
      "execution_count": 75,
      "outputs": []
    },
    {
      "cell_type": "code",
      "metadata": {
        "id": "mD0cDzU3gQym",
        "outputId": "53775d8b-242a-4339-8473-93a05a02b469",
        "colab": {
          "base_uri": "https://localhost:8080/",
          "height": 272
        }
      },
      "source": [
        "# track test loss\n",
        "test_loss = 0.0\n",
        "class_correct = list(0. for i in range(10))\n",
        "class_total = list(0. for i in range(10))\n",
        "\n",
        "model.eval()\n",
        "\n",
        "for data, target in test_loader:\n",
        "\n",
        "    if train_on_gpu:\n",
        "        data, target = data.cuda(), target.cuda()\n",
        "\n",
        "    # forward pass: compute predicted outputs by passing inputs to the model\n",
        "    output = model(data)\n",
        "    # calculate the batch loss\n",
        "    loss = criterion(output, target)\n",
        "    # update test loss \n",
        "    test_loss += loss.item()*data.size(0)\n",
        "\n",
        "    # convert output probabilities to predicted class\n",
        "    _, pred = torch.max(output, 1)    \n",
        "\n",
        "    # compare predictions to true label\n",
        "    correct_tensor = pred.eq(target.data.view_as(pred))\n",
        "    correct = np.squeeze(correct_tensor.numpy()) if not train_on_gpu else np.squeeze(correct_tensor.cpu().numpy())\n",
        "\n",
        "    # calculate test accuracy for each object class\n",
        "    for i in range(len(target.data)):\n",
        "        label = target.data[i]\n",
        "        class_correct[label] += correct[i].item()\n",
        "        class_total[label] += 1\n",
        "\n",
        "# average test loss\n",
        "test_loss = test_loss/len(test_loader.dataset)\n",
        "print('Test Loss: {:.6f}\\n'.format(test_loss))\n",
        "\n",
        "for i in range(10):\n",
        "    if class_total[i] > 0:\n",
        "        print('Test Accuracy of %5s: %2d%% (%2d/%2d)' % (\n",
        "            classes[i], 100 * class_correct[i] / class_total[i],\n",
        "            np.sum(class_correct[i]), np.sum(class_total[i])))\n",
        "    else:\n",
        "        print('Test Accuracy of %5s: N/A (no training examples)' % (classes[i]))\n",
        "\n",
        "print('\\nTest Accuracy (Overall): %2d%% (%2d/%2d)' % (\n",
        "    100. * np.sum(class_correct) / np.sum(class_total),\n",
        "    np.sum(class_correct), np.sum(class_total)))"
      ],
      "execution_count": 123,
      "outputs": [
        {
          "output_type": "stream",
          "text": [
            "/usr/local/lib/python3.6/dist-packages/ipykernel_launcher.py:22: UserWarning: Implicit dimension choice for log_softmax has been deprecated. Change the call to include dim=X as an argument.\n"
          ],
          "name": "stderr"
        },
        {
          "output_type": "stream",
          "text": [
            "Test Loss: 0.115277\n",
            "\n",
            "Test Accuracy of     1: 99% (971/980)\n",
            "Test Accuracy of     2: 98% (1114/1135)\n",
            "Test Accuracy of     3: 96% (992/1032)\n",
            "Test Accuracy of     4: 96% (971/1010)\n",
            "Test Accuracy of     5: 96% (951/982)\n",
            "Test Accuracy of     6: 96% (859/892)\n",
            "Test Accuracy of     7: 97% (933/958)\n",
            "Test Accuracy of     8: 94% (970/1028)\n",
            "Test Accuracy of     9: 92% (905/974)\n",
            "Test Accuracy of    10: 95% (959/1009)\n",
            "\n",
            "Test Accuracy (Overall): 96% (9625/10000)\n"
          ],
          "name": "stdout"
        }
      ]
    },
    {
      "cell_type": "code",
      "metadata": {
        "id": "oRr4NAIcbIsg",
        "outputId": "add261f3-5bc6-4756-9868-c24c768400b0",
        "colab": {
          "base_uri": "https://localhost:8080/",
          "height": 1000
        }
      },
      "source": [
        "batch_img = enumerate(test_loader)\n",
        "batch_idx, (example_data, example_targets) = next(batch_img)\n",
        "\n",
        "with torch.no_grad():\n",
        "    if train_on_gpu:\n",
        "      data, target = example_data.cuda(), target.cuda()\n",
        "    output = model(data)\n",
        "\n",
        "pred_train = output.data.max(1, keepdim = True)[1]\n",
        "\n",
        "fig, axes = plt.subplots(8, 4, figsize = (20, 30))\n",
        "axes = axes.ravel()\n",
        "\n",
        "for i in range(0, 32):\n",
        "  axes[i].imshow(example_data[i][0], cmap = 'gray', interpolation = 'none')\n",
        "  axes[i].set_title(\"True: {}, Pred {}\".format(example_targets[i], pred_train.cpu().numpy()[i]))"
      ],
      "execution_count": 124,
      "outputs": [
        {
          "output_type": "stream",
          "text": [
            "/usr/local/lib/python3.6/dist-packages/ipykernel_launcher.py:22: UserWarning: Implicit dimension choice for log_softmax has been deprecated. Change the call to include dim=X as an argument.\n"
          ],
          "name": "stderr"
        },
        {
          "output_type": "display_data",
          "data": {
            "image/png": "[encoded data removed]",
            "text/plain": [
              "<Figure size 1440x2160 with 32 Axes>"
            ]
          },
          "metadata": {
            "tags": [],
            "needs_background": "light"
          }
        }
      ]
    },
    {
      "cell_type": "code",
      "metadata": {
        "id": "T0cQDOIObIuw"
      },
      "source": [
        ""
      ],
      "execution_count": 73,
      "outputs": []
    }
  ]
}